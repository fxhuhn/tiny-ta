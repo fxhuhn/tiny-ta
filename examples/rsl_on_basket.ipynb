{
 "cells": [
  {
   "cell_type": "markdown",
   "metadata": {},
   "source": [
    "# Applying the RSL function to the S&P 500 index "
   ]
  },
  {
   "cell_type": "code",
   "execution_count": 77,
   "metadata": {},
   "outputs": [],
   "source": [
    "import pandas as pd\n",
    "import yfinance as yf\n",
    "from tiny_ta import rsl"
   ]
  },
  {
   "cell_type": "markdown",
   "metadata": {},
   "source": [
    "### Download all DAX 40 symbols"
   ]
  },
  {
   "cell_type": "code",
   "execution_count": 78,
   "metadata": {},
   "outputs": [],
   "source": [
    "URL = \"https://de.wikipedia.org/wiki/DAX\"\n",
    "symbols = [symbol + \".DE\" for symbol in pd.read_html(URL)[1].Symbol]"
   ]
  },
  {
   "cell_type": "code",
   "execution_count": 79,
   "metadata": {},
   "outputs": [
    {
     "name": "stderr",
     "output_type": "stream",
     "text": [
      "[*********************100%%**********************]  40 of 40 completed\n"
     ]
    }
   ],
   "source": [
    "# Download the S&P 500 index price data from Yahoo\n",
    "dax_stocks = yf.download(symbols, interval=\"1wk\", group_by=\"ticker\")"
   ]
  },
  {
   "cell_type": "markdown",
   "metadata": {},
   "source": [
    "### Add the RSL to all symbols"
   ]
  },
  {
   "cell_type": "code",
   "execution_count": 80,
   "metadata": {},
   "outputs": [],
   "source": [
    "dax = dict()\n",
    "\n",
    "for symbol in dax_stocks.columns.get_level_values(0).unique():\n",
    "    df = dax_stocks[symbol]\n",
    "    df[\"rsl\"] = rsl(df.Close)\n",
    "    dax[symbol] = df"
   ]
  },
  {
   "cell_type": "markdown",
   "metadata": {},
   "source": [
    "### Filter for top 5 per week"
   ]
  },
  {
   "cell_type": "code",
   "execution_count": 81,
   "metadata": {},
   "outputs": [
    {
     "data": {
      "text/html": [
       "<div>\n",
       "<style scoped>\n",
       "    .dataframe tbody tr th:only-of-type {\n",
       "        vertical-align: middle;\n",
       "    }\n",
       "\n",
       "    .dataframe tbody tr th {\n",
       "        vertical-align: top;\n",
       "    }\n",
       "\n",
       "    .dataframe thead th {\n",
       "        text-align: right;\n",
       "    }\n",
       "</style>\n",
       "<table border=\"1\" class=\"dataframe\">\n",
       "  <thead>\n",
       "    <tr style=\"text-align: right;\">\n",
       "      <th></th>\n",
       "      <th>1</th>\n",
       "      <th>2</th>\n",
       "      <th>3</th>\n",
       "      <th>4</th>\n",
       "      <th>5</th>\n",
       "    </tr>\n",
       "    <tr>\n",
       "      <th>0</th>\n",
       "      <th></th>\n",
       "      <th></th>\n",
       "      <th></th>\n",
       "      <th></th>\n",
       "      <th></th>\n",
       "    </tr>\n",
       "  </thead>\n",
       "  <tbody>\n",
       "    <tr>\n",
       "      <th>2023-12-25</th>\n",
       "      <td>VNA.DE</td>\n",
       "      <td>SIE.DE</td>\n",
       "      <td>DBK.DE</td>\n",
       "      <td>IFX.DE</td>\n",
       "      <td>CON.DE</td>\n",
       "    </tr>\n",
       "    <tr>\n",
       "      <th>2024-01-01</th>\n",
       "      <td>DBK.DE</td>\n",
       "      <td>RHM.DE</td>\n",
       "      <td>VNA.DE</td>\n",
       "      <td>CBK.DE</td>\n",
       "      <td>SIE.DE</td>\n",
       "    </tr>\n",
       "    <tr>\n",
       "      <th>2024-01-08</th>\n",
       "      <td>RHM.DE</td>\n",
       "      <td>VNA.DE</td>\n",
       "      <td>HEI.DE</td>\n",
       "      <td>SIE.DE</td>\n",
       "      <td>AIR.DE</td>\n",
       "    </tr>\n",
       "    <tr>\n",
       "      <th>2024-01-15</th>\n",
       "      <td>RHM.DE</td>\n",
       "      <td>AIR.DE</td>\n",
       "      <td>SAP.DE</td>\n",
       "      <td>DB1.DE</td>\n",
       "      <td>MTX.DE</td>\n",
       "    </tr>\n",
       "    <tr>\n",
       "      <th>2024-01-22</th>\n",
       "      <td>ENR.DE</td>\n",
       "      <td>SAP.DE</td>\n",
       "      <td>MTX.DE</td>\n",
       "      <td>RHM.DE</td>\n",
       "      <td>SIE.DE</td>\n",
       "    </tr>\n",
       "    <tr>\n",
       "      <th>2024-01-29</th>\n",
       "      <td>SAP.DE</td>\n",
       "      <td>ENR.DE</td>\n",
       "      <td>RHM.DE</td>\n",
       "      <td>DBK.DE</td>\n",
       "      <td>HEI.DE</td>\n",
       "    </tr>\n",
       "    <tr>\n",
       "      <th>2024-02-05</th>\n",
       "      <td>SAP.DE</td>\n",
       "      <td>RHM.DE</td>\n",
       "      <td>ENR.DE</td>\n",
       "      <td>MTX.DE</td>\n",
       "      <td>SRT3.DE</td>\n",
       "    </tr>\n",
       "    <tr>\n",
       "      <th>2024-02-12</th>\n",
       "      <td>RHM.DE</td>\n",
       "      <td>MTX.DE</td>\n",
       "      <td>ENR.DE</td>\n",
       "      <td>SAP.DE</td>\n",
       "      <td>SIE.DE</td>\n",
       "    </tr>\n",
       "    <tr>\n",
       "      <th>2024-02-19</th>\n",
       "      <td>RHM.DE</td>\n",
       "      <td>SAP.DE</td>\n",
       "      <td>ENR.DE</td>\n",
       "      <td>SIE.DE</td>\n",
       "      <td>MBG.DE</td>\n",
       "    </tr>\n",
       "    <tr>\n",
       "      <th>2024-02-26</th>\n",
       "      <td>RHM.DE</td>\n",
       "      <td>SAP.DE</td>\n",
       "      <td>ENR.DE</td>\n",
       "      <td>MBG.DE</td>\n",
       "      <td>DTG.DE</td>\n",
       "    </tr>\n",
       "  </tbody>\n",
       "</table>\n",
       "</div>"
      ],
      "text/plain": [
       "                 1       2       3       4        5\n",
       "0                                                  \n",
       "2023-12-25  VNA.DE  SIE.DE  DBK.DE  IFX.DE   CON.DE\n",
       "2024-01-01  DBK.DE  RHM.DE  VNA.DE  CBK.DE   SIE.DE\n",
       "2024-01-08  RHM.DE  VNA.DE  HEI.DE  SIE.DE   AIR.DE\n",
       "2024-01-15  RHM.DE  AIR.DE  SAP.DE  DB1.DE   MTX.DE\n",
       "2024-01-22  ENR.DE  SAP.DE  MTX.DE  RHM.DE   SIE.DE\n",
       "2024-01-29  SAP.DE  ENR.DE  RHM.DE  DBK.DE   HEI.DE\n",
       "2024-02-05  SAP.DE  RHM.DE  ENR.DE  MTX.DE  SRT3.DE\n",
       "2024-02-12  RHM.DE  MTX.DE  ENR.DE  SAP.DE   SIE.DE\n",
       "2024-02-19  RHM.DE  SAP.DE  ENR.DE  SIE.DE   MBG.DE\n",
       "2024-02-26  RHM.DE  SAP.DE  ENR.DE  MBG.DE   DTG.DE"
      ]
     },
     "execution_count": 81,
     "metadata": {},
     "output_type": "execute_result"
    }
   ],
   "source": [
    "WEEKS = [-10, -9, -8, -7, -6, -5, -4, -3, -2, -1]\n",
    "\n",
    "rsl_top = [\n",
    "    [stock.iloc[week].name]\n",
    "    + [\n",
    "        symbol\n",
    "        for symbol, _ in sorted(\n",
    "            [(symbol, stock.rsl.iloc[week]) for symbol, stock in dax.items()],\n",
    "            key=lambda a: a[1],\n",
    "            reverse=True,\n",
    "        )[:5]\n",
    "    ]\n",
    "    for week in WEEKS\n",
    "]\n",
    "\n",
    "pd.DataFrame(rsl_top).set_index(0)"
   ]
  }
 ],
 "metadata": {
  "kernelspec": {
   "display_name": ".venv",
   "language": "python",
   "name": "python3"
  },
  "language_info": {
   "codemirror_mode": {
    "name": "ipython",
    "version": 3
   },
   "file_extension": ".py",
   "mimetype": "text/x-python",
   "name": "python",
   "nbconvert_exporter": "python",
   "pygments_lexer": "ipython3",
   "version": "3.12.0"
  }
 },
 "nbformat": 4,
 "nbformat_minor": 2
}
